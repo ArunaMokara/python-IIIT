{
 "cells": [
  {
   "cell_type": "markdown",
   "metadata": {},
   "source": [
    "## Task"
   ]
  },
  {
   "cell_type": "code",
   "execution_count": 1,
   "metadata": {},
   "outputs": [
    {
     "name": "stdout",
     "output_type": "stream",
     "text": [
      "['mobile', 'laptop', 'speakers']\n"
     ]
    }
   ],
   "source": [
    "#Given list contains all electronic items[mobile,laptop,speakers,door,files]. If you find any item which is not related to electronics then remove it using slicing method.\n",
    "items=[\"mobile\",\"laptop\",\"speakers\",\"door\",\"files\"]\n",
    "print(items[0:3])\n"
   ]
  },
  {
   "cell_type": "code",
   "execution_count": 2,
   "metadata": {},
   "outputs": [
    {
     "name": "stdout",
     "output_type": "stream",
     "text": [
      "5\n",
      "88\n",
      "10\n"
     ]
    }
   ],
   "source": [
    "#Find the length of the given list. Also print the minimum and maximum values in the list. list1 = [10,20,34,44,88]\n",
    "list1 = [10,20,34,44,88]\n",
    "print(len(list1))\n",
    "print(list1[-1])\n",
    "print(list1[0])"
   ]
  },
  {
   "cell_type": "code",
   "execution_count": 3,
   "metadata": {},
   "outputs": [
    {
     "data": {
      "text/plain": [
       "['a', 'b', 'c', 'd']"
      ]
     },
     "execution_count": 3,
     "metadata": {},
     "output_type": "execute_result"
    }
   ],
   "source": [
    "#Take a list of elements and add that list into another empty list\n",
    "li=[\"a\",\"b\",\"c\",\"d\"]\n",
    "li1=[]\n",
    "li1=li.copy()\n",
    "li1"
   ]
  },
  {
   "cell_type": "code",
   "execution_count": 4,
   "metadata": {},
   "outputs": [
    {
     "data": {
      "text/plain": [
       "['d', 'c', 'b', 'a']"
      ]
     },
     "execution_count": 4,
     "metadata": {},
     "output_type": "execute_result"
    }
   ],
   "source": [
    "#Sort the list of elements in ascending order and descending order\n",
    "li=[\"a\",\"b\",\"c\",\"d\"]\n",
    "li.sort(reverse=True)\n",
    "li"
   ]
  },
  {
   "cell_type": "code",
   "execution_count": null,
   "metadata": {
    "collapsed": true
   },
   "outputs": [],
   "source": [
    "#Given a two list of equal size create a set such that it shows the element from both lists in the pair.\n"
   ]
  },
  {
   "cell_type": "code",
   "execution_count": 5,
   "metadata": {},
   "outputs": [
    {
     "name": "stdout",
     "output_type": "stream",
     "text": [
      "15\n",
      "3.0\n"
     ]
    }
   ],
   "source": [
    "#Write a python program to print the sum and average of elements in the list\n",
    "li=[1,2,3,4,5]\n",
    "print(sum(li))\n",
    "a=sum(li)\n",
    "c=len(li)\n",
    "avg=a/c\n",
    "print(avg)"
   ]
  },
  {
   "cell_type": "code",
   "execution_count": null,
   "metadata": {
    "collapsed": true
   },
   "outputs": [],
   "source": [
    "#function to identify the second largest element in a unique list\n",
    "        #sort the data and sselect the second largest element\n",
    "        #sort the data in reverse order and select the second element"
   ]
  },
  {
   "cell_type": "code",
   "execution_count": 6,
   "metadata": {},
   "outputs": [
    {
     "data": {
      "text/plain": [
       "6"
      ]
     },
     "execution_count": 6,
     "metadata": {},
     "output_type": "execute_result"
    }
   ],
   "source": [
    "def second_largest(li):\n",
    "    li.sort()\n",
    "    return li[-2]\n",
    "li=[1,2,3,4,6,7]\n",
    "second_largest(li)"
   ]
  },
  {
   "cell_type": "code",
   "execution_count": 7,
   "metadata": {},
   "outputs": [
    {
     "data": {
      "text/plain": [
       "3"
      ]
     },
     "execution_count": 7,
     "metadata": {},
     "output_type": "execute_result"
    }
   ],
   "source": [
    "#Function to remove the max and then get the max of the new list\n",
    "def second_largest(li):\n",
    "    li.sort()\n",
    "    return li[-2]\n",
    "#Function to return nth largest\n",
    "def lar(li,n):\n",
    "    li.sort()\n",
    "    return li[-n]\n",
    "li=[1,2,3,4,6,7]\n",
    "second_largest(li)\n",
    "lar(li,4)\n"
   ]
  },
  {
   "cell_type": "code",
   "execution_count": 8,
   "metadata": {},
   "outputs": [
    {
     "data": {
      "text/plain": [
       "[1, 2, 3, 4, 5]"
      ]
     },
     "execution_count": 8,
     "metadata": {},
     "output_type": "execute_result"
    }
   ],
   "source": [
    "s=\"1 2 3 4  5\"\n",
    "li=s.split()\n",
    "numli=[]\n",
    "for i in li:\n",
    "    numli.append(int(i))\n",
    "numli"
   ]
  },
  {
   "cell_type": "code",
   "execution_count": 9,
   "metadata": {},
   "outputs": [
    {
     "name": "stdout",
     "output_type": "stream",
     "text": [
      "enter a number:3\n",
      "enter a number:21\n",
      "enter a number:9\n",
      "9 % 3 == 0\n",
      "8 % 3 == 2\n",
      "7 % 3 == 1\n",
      "6 % 3 == 0\n",
      "5 % 3 == 2\n",
      "4 % 3 == 1\n",
      "3 % 3 == 0\n",
      "2 % 3 == 2\n",
      "1 % 3 == 1\n",
      "0 % 3 == 0\n"
     ]
    }
   ],
   "source": [
    "#given 3 numbers a,b,c.\n",
    "#write a program to find the largest number which is less than or equal to c and leaves reminder b when divided by a\n",
    "def func(a,b,c):\n",
    "    while(c>=0):\n",
    "        if(c%a==b):\n",
    "            print(c,\"%\",a,\"==\",b)\n",
    "            break\n",
    "        else:\n",
    "            print(c,\"%\",a,\"==\",c%a)\n",
    "        c-=1\n",
    "a=int(input(\"enter a number:\"))\n",
    "b=int(input(\"enter a number:\"))\n",
    "c=int(input(\"enter a number:\"))\n",
    "func(a,b,c)"
   ]
  },
  {
   "cell_type": "code",
   "execution_count": null,
   "metadata": {
    "collapsed": true
   },
   "outputs": [],
   "source": []
  }
 ],
 "metadata": {
  "kernelspec": {
   "display_name": "Python 3",
   "language": "python",
   "name": "python3"
  },
  "language_info": {
   "codemirror_mode": {
    "name": "ipython",
    "version": 3
   },
   "file_extension": ".py",
   "mimetype": "text/x-python",
   "name": "python",
   "nbconvert_exporter": "python",
   "pygments_lexer": "ipython3",
   "version": "3.6.1"
  }
 },
 "nbformat": 4,
 "nbformat_minor": 2
}
