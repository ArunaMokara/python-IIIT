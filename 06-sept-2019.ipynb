{
 "cells": [
  {
   "cell_type": "markdown",
   "metadata": {},
   "source": [
    "# Functions\n"
   ]
  },
  {
   "cell_type": "code",
   "execution_count": 2,
   "metadata": {},
   "outputs": [
    {
     "name": "stdout",
     "output_type": "stream",
     "text": [
      "hello world\n"
     ]
    }
   ],
   "source": [
    "def python():\n",
    "    print(\"hello world\")\n",
    "python()"
   ]
  },
  {
   "cell_type": "code",
   "execution_count": 5,
   "metadata": {},
   "outputs": [
    {
     "data": {
      "text/plain": [
       "'nohtyp'"
      ]
     },
     "execution_count": 5,
     "metadata": {},
     "output_type": "execute_result"
    }
   ],
   "source": [
    "# function to reverse a string\n",
    "def reverse(s):\n",
    "    return s[::-1]\n",
    "reverse(\"python\")"
   ]
  },
  {
   "cell_type": "code",
   "execution_count": 6,
   "metadata": {},
   "outputs": [
    {
     "data": {
      "text/plain": [
       "576"
      ]
     },
     "execution_count": 6,
     "metadata": {},
     "output_type": "execute_result"
    }
   ],
   "source": [
    "#square of a number\n",
    "def square(n):\n",
    "    return n*n\n",
    "square(24)"
   ]
  },
  {
   "cell_type": "code",
   "execution_count": 7,
   "metadata": {},
   "outputs": [
    {
     "data": {
      "text/plain": [
       "6"
      ]
     },
     "execution_count": 7,
     "metadata": {},
     "output_type": "execute_result"
    }
   ],
   "source": [
    "#sum of numbers\n",
    "def sum_of(a,b):\n",
    "    return a+b\n",
    "sum_of(2,4)"
   ]
  },
  {
   "cell_type": "markdown",
   "metadata": {},
   "source": [
    "## Types of Function\n",
    "\n",
    "### 1)without Arguments and without  return value"
   ]
  },
  {
   "cell_type": "code",
   "execution_count": 9,
   "metadata": {},
   "outputs": [
    {
     "name": "stdout",
     "output_type": "stream",
     "text": [
      "6\n"
     ]
    }
   ],
   "source": [
    "def func():\n",
    "    a=2\n",
    "    b=4\n",
    "    print(a+b)\n",
    "func()"
   ]
  },
  {
   "cell_type": "markdown",
   "metadata": {},
   "source": [
    "### 2)Withour Arguments and With return value"
   ]
  },
  {
   "cell_type": "code",
   "execution_count": 10,
   "metadata": {},
   "outputs": [
    {
     "data": {
      "text/plain": [
       "20"
      ]
     },
     "execution_count": 10,
     "metadata": {},
     "output_type": "execute_result"
    }
   ],
   "source": [
    "def func():\n",
    "    a=4\n",
    "    b=5\n",
    "    return a*b\n",
    "func()"
   ]
  },
  {
   "cell_type": "markdown",
   "metadata": {},
   "source": [
    "### 3)With Arguments and without return value"
   ]
  },
  {
   "cell_type": "code",
   "execution_count": 11,
   "metadata": {},
   "outputs": [
    {
     "name": "stdout",
     "output_type": "stream",
     "text": [
      "0.5\n"
     ]
    }
   ],
   "source": [
    "def func(a,b):\n",
    "    print(a/b)\n",
    "func(2,4)"
   ]
  },
  {
   "cell_type": "markdown",
   "metadata": {},
   "source": [
    "### 4)With Arguments and with return value"
   ]
  },
  {
   "cell_type": "code",
   "execution_count": 12,
   "metadata": {},
   "outputs": [
    {
     "data": {
      "text/plain": [
       "4"
      ]
     },
     "execution_count": 12,
     "metadata": {},
     "output_type": "execute_result"
    }
   ],
   "source": [
    "def func(a,b):\n",
    "    return a%b\n",
    "func(4,6)"
   ]
  },
  {
   "cell_type": "markdown",
   "metadata": {},
   "source": [
    "## Recursive Function"
   ]
  },
  {
   "cell_type": "markdown",
   "metadata": {},
   "source": [
    "### Task"
   ]
  },
  {
   "cell_type": "code",
   "execution_count": 18,
   "metadata": {},
   "outputs": [
    {
     "name": "stdout",
     "output_type": "stream",
     "text": [
      "enter a lower bound:1\n",
      "enter a upper bound:100\n",
      "6\n",
      "12\n",
      "18\n",
      "24\n",
      "30\n",
      "36\n",
      "42\n",
      "48\n",
      "54\n",
      "60\n",
      "66\n",
      "72\n",
      "78\n",
      "84\n",
      "90\n",
      "96\n"
     ]
    }
   ],
   "source": [
    "#function to print all numbers divisible by 6 and not a factor of 100 in a given range (lb,ub)inclusive\n",
    "def div_factor(lb,ub):\n",
    "    for i in range(lb,ub+1):\n",
    "        if((lb%6==0) and (lb%100!=0)):\n",
    "            print(lb)\n",
    "        lb+=1\n",
    "lb=int(input(\"enter a lower bound:\"))\n",
    "ub=int(input(\"enter a upper bound:\"))\n",
    "div_factor(lb,ub)"
   ]
  },
  {
   "cell_type": "code",
   "execution_count": null,
   "metadata": {
    "collapsed": true
   },
   "outputs": [],
   "source": [
    "#function to find the average of cubes of all the even numbers in a given range(lb,ub) inclusive\n",
    "def avg_cubes(lb,ub):\n",
    "    s=0\n",
    "    count=0\n",
    "    while(lb<=ub):\n",
    "        if(lb%2==0):\n",
    "            d=lb**3\n",
    "            s=s+d\n",
    "            count=count+1\n",
    "        lb+=1\n",
    "    return (s/count)\n",
    "    \n",
    "lb=int(input(\"enter a lower bound:\"))\n",
    "ub=int(input(\"enter a upper bound:\"))\n",
    "res=avg_cubes(lb,ub)\n",
    "print(res)"
   ]
  },
  {
   "cell_type": "code",
   "execution_count": null,
   "metadata": {
    "collapsed": true
   },
   "outputs": [],
   "source": [
    "#Function to generate the list of factors for a given number\n",
    "def factor(n):\n",
    "    l=[]\n",
    "    for i in range(1,n+1):\n",
    "        if(n%i==0):\n",
    "            l.append(i)\n",
    "        print(l)\n",
    "n=int(input(\"enter number:\"))\n",
    "factor(n)\n",
    "            "
   ]
  },
  {
   "cell_type": "code",
   "execution_count": 5,
   "metadata": {
    "scrolled": true
   },
   "outputs": [
    {
     "name": "stdout",
     "output_type": "stream",
     "text": [
      "enter a number:24\n",
      "620448401733239439360000\n"
     ]
    }
   ],
   "source": [
    "#Function to generate factorial of a given number\n",
    "def factorial(n):\n",
    "    if n==1:\n",
    "        return 1\n",
    "    else:\n",
    "        return n*factorial(n-1)\n",
    "       \n",
    "n=int(input(\"enter a number:\"))\n",
    "res=factorial(n)\n",
    "print(res)\n"
   ]
  },
  {
   "cell_type": "code",
   "execution_count": 4,
   "metadata": {},
   "outputs": [
    {
     "name": "stdout",
     "output_type": "stream",
     "text": [
      "enter a number:15\n",
      "No\n"
     ]
    }
   ],
   "source": [
    "#Function to check whether the number is prime or not using recursive function\n",
    "def isPrime(n, i = 2): \n",
    "    if (n <= 2): \n",
    "        return True if(n == 2) else False\n",
    "    if (n % i == 0): \n",
    "        return False\n",
    "    if (i * i > n): \n",
    "        return true \n",
    "    return isPrime(n, i + 1) \n",
    "n = int(input(\"enter a number:\"))\n",
    "if (isPrime(n)): \n",
    "    print(\"Yes\") \n",
    "else: \n",
    "    print(\"No\") "
   ]
  },
  {
   "cell_type": "code",
   "execution_count": null,
   "metadata": {
    "collapsed": true
   },
   "outputs": [],
   "source": [
    "#string palindrom or not\n",
    "def palindrom(s):\n",
    "    if s==s[::-1]:\n",
    "        print(\"palindrom\")\n",
    "    else:\n",
    "        print(\"not palindrom\")\n",
    "s=input(\"enter string:\")\n",
    "palindrom(s)"
   ]
  },
  {
   "cell_type": "code",
   "execution_count": 3,
   "metadata": {},
   "outputs": [
    {
     "name": "stdout",
     "output_type": "stream",
     "text": [
      "enter number1243\n",
      "4\n"
     ]
    }
   ],
   "source": [
    "# function to find number of digits in a guven number\n",
    "def digits(n):\n",
    "    count=0\n",
    "    while(n!=0):\n",
    "        r=n%10\n",
    "        count+=1\n",
    "        n=n//10\n",
    "    return count\n",
    "n=int(input(\"enter number\"))\n",
    "res=digits(n)\n",
    "print(res)\n",
    "    "
   ]
  },
  {
   "cell_type": "code",
   "execution_count": 4,
   "metadata": {},
   "outputs": [
    {
     "name": "stdout",
     "output_type": "stream",
     "text": [
      "enter number123435\n",
      "6\n"
     ]
    }
   ],
   "source": [
    "# function to find number of digits in a guven number\n",
    "def digits(n):\n",
    "    return len(str(n))\n",
    "n=int(input(\"enter number\"))\n",
    "res=digits(n)\n",
    "print(res)"
   ]
  },
  {
   "cell_type": "code",
   "execution_count": null,
   "metadata": {
    "collapsed": true
   },
   "outputs": [],
   "source": []
  }
 ],
 "metadata": {
  "kernelspec": {
   "display_name": "Python 3",
   "language": "python",
   "name": "python3"
  },
  "language_info": {
   "codemirror_mode": {
    "name": "ipython",
    "version": 3
   },
   "file_extension": ".py",
   "mimetype": "text/x-python",
   "name": "python",
   "nbconvert_exporter": "python",
   "pygments_lexer": "ipython3",
   "version": "3.6.1"
  }
 },
 "nbformat": 4,
 "nbformat_minor": 2
}
