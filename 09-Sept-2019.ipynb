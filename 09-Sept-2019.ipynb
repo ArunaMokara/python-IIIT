{
 "cells": [
  {
   "cell_type": "markdown",
   "metadata": {},
   "source": [
    "## Conditional Statements"
   ]
  },
  {
   "cell_type": "markdown",
   "metadata": {},
   "source": [
    "1) If Statement"
   ]
  },
  {
   "cell_type": "code",
   "execution_count": 1,
   "metadata": {},
   "outputs": [
    {
     "name": "stdout",
     "output_type": "stream",
     "text": [
      "enter marks:50\n"
     ]
    }
   ],
   "source": [
    "m=int(input(\"enter marks:\"))\n",
    "pas=50\n",
    "distinction=90\n"
   ]
  },
  {
   "cell_type": "code",
   "execution_count": 2,
   "metadata": {},
   "outputs": [
    {
     "name": "stdout",
     "output_type": "stream",
     "text": [
      "you passed\n"
     ]
    }
   ],
   "source": [
    "if m>=distinction:\n",
    "    print(\"Topper\")\n",
    "if m>=pas and m<distinction:\n",
    "    print(\"you passed\")\n",
    "if m<pas:\n",
    "    print(\"Failed\")\n",
    "    \n",
    "    "
   ]
  },
  {
   "cell_type": "code",
   "execution_count": 4,
   "metadata": {},
   "outputs": [
    {
     "name": "stdout",
     "output_type": "stream",
     "text": [
      "enter statement:the tea is bad\n",
      "bad review\n",
      "enter statement:im good\n",
      "good review\n"
     ]
    }
   ],
   "source": [
    "s=input(\"enter statement:\")\n",
    "if 'bad' in s:\n",
    "    print(\"bad review\")\n"
   ]
  },
  {
   "cell_type": "code",
   "execution_count": 5,
   "metadata": {},
   "outputs": [
    {
     "name": "stdout",
     "output_type": "stream",
     "text": [
      "enter statement:i am good\n"
     ]
    }
   ],
   "source": [
    "s1=input(\"enter statement:\")\n",
    "if 'bad' in s1:\n",
    "    print(\"good review\")"
   ]
  },
  {
   "cell_type": "code",
   "execution_count": 7,
   "metadata": {},
   "outputs": [
    {
     "data": {
      "text/plain": [
       "True"
      ]
     },
     "execution_count": 7,
     "metadata": {},
     "output_type": "execute_result"
    }
   ],
   "source": [
    "'z' in \"hello\""
   ]
  },
  {
   "cell_type": "code",
   "execution_count": 8,
   "metadata": {},
   "outputs": [
    {
     "data": {
      "text/plain": [
       "True"
      ]
     },
     "execution_count": 8,
     "metadata": {},
     "output_type": "execute_result"
    }
   ],
   "source": [
    "'e' in \"hello\""
   ]
  },
  {
   "cell_type": "markdown",
   "metadata": {},
   "source": [
    "### 2) If else Statement"
   ]
  },
  {
   "cell_type": "code",
   "execution_count": 9,
   "metadata": {},
   "outputs": [
    {
     "name": "stdout",
     "output_type": "stream",
     "text": [
      "False\n"
     ]
    }
   ],
   "source": [
    "if None:\n",
    "    print(\"True\")\n",
    "else:\n",
    "    print(\"False\")"
   ]
  },
  {
   "cell_type": "code",
   "execution_count": 10,
   "metadata": {},
   "outputs": [
    {
     "name": "stdout",
     "output_type": "stream",
     "text": [
      "enter a number:4\n",
      "even\n"
     ]
    }
   ],
   "source": [
    "n=int(input(\"enter a number:\"))\n",
    "if n%2==0:\n",
    "    print(\"even\")\n",
    "else:\n",
    "    print(\"odd\")"
   ]
  },
  {
   "cell_type": "code",
   "execution_count": 15,
   "metadata": {},
   "outputs": [
    {
     "name": "stdout",
     "output_type": "stream",
     "text": [
      "enter a number:2\n",
      "even but not div by 4\n"
     ]
    }
   ],
   "source": [
    "n=int(input(\"enter a number:\"))\n",
    "if n%2==0:\n",
    "    if(n%4==0):\n",
    "        print(\"even div by 4\")\n",
    "    else:\n",
    "        print(\"even but not div by 4\")\n",
    "else:\n",
    "    if(n%3==0):\n",
    "        print(\"odd div by 3\")\n",
    "    else:\n",
    "        print(\"odd  but not div by 3\")"
   ]
  },
  {
   "cell_type": "code",
   "execution_count": 24,
   "metadata": {},
   "outputs": [
    {
     "name": "stdout",
     "output_type": "stream",
     "text": [
      "enter a year:1997\n",
      "not a leap year\n"
     ]
    }
   ],
   "source": [
    "#Check if a year leap year or not\n",
    "y=int(input(\"enter a year:\"))\n",
    "if y%400==0 or (y%4==0 and y%100!=0):\n",
    "    print(\"leap year\")\n",
    "else:\n",
    "    print(\"not a leap year\")"
   ]
  },
  {
   "cell_type": "code",
   "execution_count": 36,
   "metadata": {},
   "outputs": [
    {
     "name": "stdout",
     "output_type": "stream",
     "text": [
      "123 in given range\n"
     ]
    }
   ],
   "source": [
    "#check if a number exists in given range(inclusive)\n",
    "n1=123\n",
    "lb=50\n",
    "up=150\n",
    "if n1 in range(lb,up+1):\n",
    "    print(\"{} in given range\".format(n1))\n",
    "else:\n",
    "    print(n1,\"is not in given range\")"
   ]
  },
  {
   "cell_type": "code",
   "execution_count": 37,
   "metadata": {},
   "outputs": [
    {
     "name": "stdout",
     "output_type": "stream",
     "text": [
      "enter number50\n",
      "50 is a factor of 100\n"
     ]
    }
   ],
   "source": [
    "#given number is factor of 100\n",
    "n=int(input(\"enter number\"))\n",
    "if 100%n==0:\n",
    "    print(n,\"is a factor of 100\")\n",
    "else:\n",
    "    print(\"not a factor\")"
   ]
  },
  {
   "cell_type": "code",
   "execution_count": 38,
   "metadata": {},
   "outputs": [
    {
     "name": "stdout",
     "output_type": "stream",
     "text": [
      "enter number15\n",
      "not a multiple of 10\n"
     ]
    }
   ],
   "source": [
    "#given number is multiple of 10\n",
    "n=int(input(\"enter number\"))\n",
    "if n%10==0:\n",
    "    print(n,\"is multiple of 10\")\n",
    "else:\n",
    "    print(\"not a multiple of 10\")"
   ]
  },
  {
   "cell_type": "code",
   "execution_count": 40,
   "metadata": {},
   "outputs": [
    {
     "name": "stdout",
     "output_type": "stream",
     "text": [
      "enter stringaruna\n",
      "enter number124\n",
      "not equal\n"
     ]
    }
   ],
   "source": [
    "#check if string is equal to number or not\n",
    "st=input(\"enter string\")\n",
    "num=int(input(\"enter number\"))\n",
    "if str(num)==st:\n",
    "    print(\"equal\")\n",
    "else:\n",
    "    print(\"not equal\")"
   ]
  },
  {
   "cell_type": "code",
   "execution_count": 41,
   "metadata": {},
   "outputs": [
    {
     "name": "stdout",
     "output_type": "stream",
     "text": [
      "enter a year:2020\n",
      "31622400000000000\n"
     ]
    }
   ],
   "source": [
    "#number of nano seconds in a given year\n",
    "y=int(input(\"enter a year:\"))\n",
    "if y%400==0 or (y%4==0 and y%100!=0):\n",
    "    print(366*24*60*60*(10**9))\n",
    "else:\n",
    "    print(365*24*60*60*(10**9))"
   ]
  },
  {
   "cell_type": "markdown",
   "metadata": {},
   "source": [
    "### 3) elif statement"
   ]
  },
  {
   "cell_type": "code",
   "execution_count": 43,
   "metadata": {},
   "outputs": [
    {
     "name": "stdout",
     "output_type": "stream",
     "text": [
      "enter number23\n",
      "enter number12\n",
      "enter number1\n",
      "23 is greatest number\n"
     ]
    }
   ],
   "source": [
    "#find greatest of 3 numbers\n",
    "n1=int(input(\"enter number\"))\n",
    "n2=int(input(\"enter number\"))\n",
    "n3=int(input(\"enter number\"))\n",
    "if n1>n2 and n>n3:\n",
    "    print(n1,\"is greatest number\")\n",
    "elif n2>1 and n2>n3:\n",
    "    print(n2,\"is greatest number\")\n",
    "else:\n",
    "    print(n3,\"is greatest number\")\n"
   ]
  },
  {
   "cell_type": "markdown",
   "metadata": {},
   "source": [
    "### 4)Nested if"
   ]
  },
  {
   "cell_type": "code",
   "execution_count": 44,
   "metadata": {},
   "outputs": [
    {
     "name": "stdout",
     "output_type": "stream",
     "text": [
      "enter number-2\n",
      "negative\n"
     ]
    }
   ],
   "source": [
    "#take an input from keyboard\n",
    "#check the number is positive or negative or zero disply\n",
    "num=int(input(\"enter number\"))\n",
    "if num>=0:\n",
    "    if num==0:\n",
    "        print(\"zero\")\n",
    "    else:\n",
    "        print(\"positive\")\n",
    "else:\n",
    "    print(\"negative\")\n",
    "    "
   ]
  },
  {
   "cell_type": "code",
   "execution_count": 52,
   "metadata": {},
   "outputs": [
    {
     "name": "stdout",
     "output_type": "stream",
     "text": [
      "enter a number:2\n",
      "1.4142135623730951\n",
      "1.4142135623730951\n"
     ]
    }
   ],
   "source": [
    "#square root of a given number\n",
    "import math\n",
    "n=int(input(\"enter a number:\"))\n",
    "print(math.sqrt(n))\n",
    "s=n**0.5\n",
    "print(s)\n",
    "\n"
   ]
  },
  {
   "cell_type": "markdown",
   "metadata": {
    "collapsed": true
   },
   "source": [
    "### Loops"
   ]
  },
  {
   "cell_type": "code",
   "execution_count": 2,
   "metadata": {},
   "outputs": [
    {
     "name": "stdout",
     "output_type": "stream",
     "text": [
      "enter string:aruna\n",
      "a\n",
      "r\n",
      "u\n",
      "n\n",
      "a\n"
     ]
    }
   ],
   "source": [
    "s=input(\"enter string:\")\n",
    "l=len(s)\n",
    "i=0\n",
    "while i<l:\n",
    "    print(s[i])\n",
    "    i+=1"
   ]
  },
  {
   "cell_type": "code",
   "execution_count": 3,
   "metadata": {},
   "outputs": [
    {
     "name": "stdout",
     "output_type": "stream",
     "text": [
      "enter a number10\n",
      "1 2 3 4 5 6 7 8 9 "
     ]
    }
   ],
   "source": [
    "#function to print N natural numbers using loop\n",
    "def natural(n):\n",
    "    i=1\n",
    "    for i in range(i,n):\n",
    "        print(i,end=\" \")\n",
    "n=int(input(\"enter a number\"))\n",
    "natural(n)"
   ]
  },
  {
   "cell_type": "code",
   "execution_count": 11,
   "metadata": {},
   "outputs": [
    {
     "name": "stdout",
     "output_type": "stream",
     "text": [
      "500 502 504 506 508 510 512 514 516 518 520 522 524 526 528 530 532 534 536 538 540 542 544 546 548 "
     ]
    }
   ],
   "source": [
    "#function to print the alternate value in range in the same line,range(500,550)\n",
    "\n",
    "def alternate(i,n):\n",
    "    #for i in range(i,n,2)\n",
    "    while(i<n):\n",
    "        print(i,end=\" \")\n",
    "        i+=2\n",
    "i=500\n",
    "n=550\n",
    "alternate(i,n)"
   ]
  },
  {
   "cell_type": "code",
   "execution_count": 16,
   "metadata": {},
   "outputs": [
    {
     "name": "stdout",
     "output_type": "stream",
     "text": [
      "enter a string:aruna\n",
      "a\n",
      "n\n",
      "u\n",
      "r\n",
      "a\n"
     ]
    }
   ],
   "source": [
    "#function to print reverse of a given range in the line\n",
    "def reverse(s):\n",
    "    i=len(s)-1\n",
    "    while(i>=0):\n",
    "        print(s[i])\n",
    "        i-=1\n",
    "s=input(\"enter a string:\")\n",
    "reverse(s)"
   ]
  },
  {
   "cell_type": "code",
   "execution_count": 8,
   "metadata": {},
   "outputs": [
    {
     "name": "stdout",
     "output_type": "stream",
     "text": [
      "enter a number:15\n",
      "15\n",
      "13\n",
      "11\n",
      "9\n",
      "7\n",
      "5\n",
      "3\n",
      "1\n"
     ]
    }
   ],
   "source": [
    "#function to print odd numbers in reverse order\n",
    "def odd(n):\n",
    "    i=n\n",
    "    while(n>=0):\n",
    "        if(n%2!=0):\n",
    "            print(n)\n",
    "        n-=1\n",
    "n=int(input(\"enter a number:\"))\n",
    "odd(n)"
   ]
  },
  {
   "cell_type": "code",
   "execution_count": 6,
   "metadata": {},
   "outputs": [
    {
     "name": "stdout",
     "output_type": "stream",
     "text": [
      "enter a lower bound:20\n",
      "enter a upper bound:50\n",
      "24\n",
      "30\n",
      "36\n",
      "42\n",
      "48\n"
     ]
    }
   ],
   "source": [
    "#function to print all numbers divisible by 6 and not a factor of 100 in a range(lb,ub)inclusive\n",
    "def div(lb,ub):\n",
    "    while(lb<=ub):\n",
    "        if(lb%6==0 and 100%lb!=0):\n",
    "            print(lb)\n",
    "        lb+=1\n",
    "lb=int(input(\"enter a lower bound:\"))\n",
    "ub=int(input(\"enter a upper bound:\"))\n",
    "div(lb,ub)"
   ]
  },
  {
   "cell_type": "code",
   "execution_count": 8,
   "metadata": {},
   "outputs": [
    {
     "name": "stdout",
     "output_type": "stream",
     "text": [
      "enter number:10\n",
      "5.5\n"
     ]
    }
   ],
   "source": [
    "#Function to find the average of the given range\n",
    "def avg(n):\n",
    "    s=0\n",
    "    c=0\n",
    "    for i in range(1,n+1):\n",
    "        s=s+i\n",
    "        c+=1\n",
    "    print(s/c)\n",
    "n=int(input(\"enter number:\"))\n",
    "avg(n)"
   ]
  },
  {
   "cell_type": "code",
   "execution_count": null,
   "metadata": {
    "collapsed": true
   },
   "outputs": [],
   "source": [
    "#Function to find the average of the cubes of all even numbers in given range"
   ]
  },
  {
   "cell_type": "markdown",
   "metadata": {},
   "source": [
    "## Task"
   ]
  },
  {
   "cell_type": "markdown",
   "metadata": {},
   "source": [
    "#### for loop"
   ]
  },
  {
   "cell_type": "code",
   "execution_count": 4,
   "metadata": {},
   "outputs": [
    {
     "name": "stdout",
     "output_type": "stream",
     "text": [
      "Fizz\n",
      "Buzz\n",
      "Fizz\n",
      "Fizz\n",
      "Buzz\n",
      "Fizz\n",
      "Fizz\n",
      "Fizz\n",
      "Buzz\n",
      "Fizz\n",
      "Fizz\n",
      "Buzz\n",
      "Fizz\n",
      "Fizz\n",
      "Fizz\n",
      "Buzz\n",
      "Fizz\n",
      "Fizz\n",
      "Buzz\n",
      "Fizz\n",
      "Fizz\n",
      "Fizz\n",
      "Buzz\n"
     ]
    }
   ],
   "source": [
    "#Iterate the integers from 1 to 50, for multiples of 3 print “Fizz” and for multiples of 5 print “Buzz” and for multiples of both 3 and 5 print “FizzBuzz”\n",
    "for i in range(1,51):\n",
    "    if(i%3==0):\n",
    "        print(\"Fizz\")\n",
    "    elif(i%5==0):\n",
    "        print(\"Buzz\")\n",
    "    elif(i%3==0 and i%5==0):\n",
    "        print(\"FizzBuzz\")"
   ]
  },
  {
   "cell_type": "code",
   "execution_count": 5,
   "metadata": {},
   "outputs": [
    {
     "name": "stdout",
     "output_type": "stream",
     "text": [
      "enter a number:4\n",
      "4 * 10 = 40\n",
      "4 * 11 = 44\n",
      "4 * 12 = 48\n",
      "4 * 13 = 52\n",
      "4 * 14 = 56\n",
      "4 * 15 = 60\n",
      "4 * 16 = 64\n",
      "4 * 17 = 68\n",
      "4 * 18 = 72\n",
      "4 * 19 = 76\n",
      "4 * 20 = 80\n"
     ]
    }
   ],
   "source": [
    "#Program to print the multiplication table from range between 10 to 20 \n",
    "n=int(input(\"enter a number:\"))\n",
    "for i in range(10,21):\n",
    "    mul=n*i\n",
    "    print(n,\"*\",i,\"=\",mul)"
   ]
  },
  {
   "cell_type": "markdown",
   "metadata": {},
   "source": [
    "### while loop"
   ]
  },
  {
   "cell_type": "code",
   "execution_count": 6,
   "metadata": {},
   "outputs": [
    {
     "name": "stdout",
     "output_type": "stream",
     "text": [
      "enter a number:14\n",
      "1 2 3 4 5 6 7 8 9 10 11 12 13 14 "
     ]
    }
   ],
   "source": [
    "#Print n Natural Numbers using while loop\n",
    "i=1\n",
    "n=int(input(\"enter a number:\"))\n",
    "while(i<=n):\n",
    "    print(i,end=\" \")\n",
    "    i+=1"
   ]
  },
  {
   "cell_type": "code",
   "execution_count": 2,
   "metadata": {},
   "outputs": [
    {
     "name": "stdout",
     "output_type": "stream",
     "text": [
      "enter a lower bound:1\n",
      "enter a upper bound:17\n",
      "1\n",
      "2\n",
      "3\n"
     ]
    }
   ],
   "source": [
    "#Program print n number of iterations using while loop with if statement.\n",
    "def iteration(lb,ub):\n",
    "    while(lb<=ub):\n",
    "        if(lb==4):\n",
    "            break\n",
    "        print(lb)\n",
    "        lb+=1\n",
    "        \n",
    "lb=int(input(\"enter a lower bound:\"))\n",
    "ub=int(input(\"enter a upper bound:\"))\n",
    "iteration(lb,ub)"
   ]
  },
  {
   "cell_type": "code",
   "execution_count": null,
   "metadata": {
    "collapsed": true
   },
   "outputs": [],
   "source": []
  }
 ],
 "metadata": {
  "kernelspec": {
   "display_name": "Python 3",
   "language": "python",
   "name": "python3"
  },
  "language_info": {
   "codemirror_mode": {
    "name": "ipython",
    "version": 3
   },
   "file_extension": ".py",
   "mimetype": "text/x-python",
   "name": "python",
   "nbconvert_exporter": "python",
   "pygments_lexer": "ipython3",
   "version": "3.6.1"
  }
 },
 "nbformat": 4,
 "nbformat_minor": 2
}
