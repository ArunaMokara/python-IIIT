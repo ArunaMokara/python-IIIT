{
 "cells": [
  {
   "cell_type": "markdown",
   "metadata": {},
   "source": [
    "### Markdown Basics\n",
    "# Heading1\n",
    "## Heading 2\n",
    "**Bold**\n",
    "*python\n",
    "*Italic*\n",
    "***IB***\n",
    "\n",
    "\n",
    "* list\n",
    "    * sub list1\n",
    "    * sub list2\n",
    " \n",
    "\n",
    "> 1. Ordered List1\n",
    "> 2. Orderes list2\n",
    "\n",
    "- [ ]Option 1\n",
    "- [ ]Option 2\n",
    "- [x]Option 3\n",
    "\n",
    "\\* escape\n",
    "[Link](http://gmail.com)\n",
    "\n",
    "I have 10 items [Google] [1] than from [Yahoo] [2]\n",
    "[1]:http://google.com \"Google\"\n",
    "[2]:http://search.yahoo.com/ \"Yahoo search\"\n",
    "\n",
    "\n",
    "`printf(\"hello markdown\")`\n",
    " \n",
    " \n",
    "<https://google.com>\n",
    "\n",
    "[jupyter Logo](logo.png)\n",
    "<img src=\"logo.png\" height=\"50px\" width=\"50px\" style=\"float:left\">"
   ]
  },
  {
   "cell_type": "code",
   "execution_count": null,
   "metadata": {
    "collapsed": true
   },
   "outputs": [],
   "source": []
  }
 ],
 "metadata": {
  "kernelspec": {
   "display_name": "Python 3",
   "language": "python",
   "name": "python3"
  },
  "language_info": {
   "codemirror_mode": {
    "name": "ipython",
    "version": 3
   },
   "file_extension": ".py",
   "mimetype": "text/x-python",
   "name": "python",
   "nbconvert_exporter": "python",
   "pygments_lexer": "ipython3",
   "version": "3.6.1"
  }
 },
 "nbformat": 4,
 "nbformat_minor": 2
}
